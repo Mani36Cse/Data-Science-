{
 "cells": [
  {
   "cell_type": "code",
   "execution_count": 1,
   "id": "c4443bd8-a836-419a-ba2d-9ee2e917bad0",
   "metadata": {},
   "outputs": [],
   "source": [
    "import pandas as pd"
   ]
  },
  {
   "cell_type": "code",
   "execution_count": 2,
   "id": "af7ef1dc-f4b6-4321-b525-355c80f4d65e",
   "metadata": {},
   "outputs": [],
   "source": [
    "data_set=pd.read_csv(\"Placement_Data_Full_Class.csv\")"
   ]
  },
  {
   "cell_type": "code",
   "execution_count": 3,
   "id": "de627443-d074-467d-8f81-f6601ae9a555",
   "metadata": {
    "scrolled": true
   },
   "outputs": [
    {
     "data": {
      "text/html": [
       "<div>\n",
       "<style scoped>\n",
       "    .dataframe tbody tr th:only-of-type {\n",
       "        vertical-align: middle;\n",
       "    }\n",
       "\n",
       "    .dataframe tbody tr th {\n",
       "        vertical-align: top;\n",
       "    }\n",
       "\n",
       "    .dataframe thead th {\n",
       "        text-align: right;\n",
       "    }\n",
       "</style>\n",
       "<table border=\"1\" class=\"dataframe\">\n",
       "  <thead>\n",
       "    <tr style=\"text-align: right;\">\n",
       "      <th></th>\n",
       "      <th>sl_no</th>\n",
       "      <th>gender</th>\n",
       "      <th>ssc_p</th>\n",
       "      <th>ssc_b</th>\n",
       "      <th>hsc_p</th>\n",
       "      <th>hsc_b</th>\n",
       "      <th>hsc_s</th>\n",
       "      <th>degree_p</th>\n",
       "      <th>degree_t</th>\n",
       "      <th>workex</th>\n",
       "      <th>etest_p</th>\n",
       "      <th>specialisation</th>\n",
       "      <th>mba_p</th>\n",
       "      <th>status</th>\n",
       "      <th>salary</th>\n",
       "    </tr>\n",
       "  </thead>\n",
       "  <tbody>\n",
       "    <tr>\n",
       "      <th>0</th>\n",
       "      <td>1.0</td>\n",
       "      <td>M</td>\n",
       "      <td>67.00</td>\n",
       "      <td>Others</td>\n",
       "      <td>91.00</td>\n",
       "      <td>Others</td>\n",
       "      <td>Commerce</td>\n",
       "      <td>58.00</td>\n",
       "      <td>Sci&amp;Tech</td>\n",
       "      <td>No</td>\n",
       "      <td>55.0</td>\n",
       "      <td>Mkt&amp;HR</td>\n",
       "      <td>58.80</td>\n",
       "      <td>Placed</td>\n",
       "      <td>270000.0</td>\n",
       "    </tr>\n",
       "    <tr>\n",
       "      <th>1</th>\n",
       "      <td>2.0</td>\n",
       "      <td>M</td>\n",
       "      <td>79.33</td>\n",
       "      <td>Central</td>\n",
       "      <td>78.33</td>\n",
       "      <td>Others</td>\n",
       "      <td>Science</td>\n",
       "      <td>77.48</td>\n",
       "      <td>Sci&amp;Tech</td>\n",
       "      <td>Yes</td>\n",
       "      <td>86.5</td>\n",
       "      <td>Mkt&amp;Fin</td>\n",
       "      <td>66.28</td>\n",
       "      <td>Placed</td>\n",
       "      <td>200000.0</td>\n",
       "    </tr>\n",
       "    <tr>\n",
       "      <th>2</th>\n",
       "      <td>3.0</td>\n",
       "      <td>M</td>\n",
       "      <td>65.00</td>\n",
       "      <td>Central</td>\n",
       "      <td>68.00</td>\n",
       "      <td>Central</td>\n",
       "      <td>Arts</td>\n",
       "      <td>64.00</td>\n",
       "      <td>Comm&amp;Mgmt</td>\n",
       "      <td>No</td>\n",
       "      <td>75.0</td>\n",
       "      <td>Mkt&amp;Fin</td>\n",
       "      <td>57.80</td>\n",
       "      <td>Placed</td>\n",
       "      <td>250000.0</td>\n",
       "    </tr>\n",
       "    <tr>\n",
       "      <th>3</th>\n",
       "      <td>4.0</td>\n",
       "      <td>M</td>\n",
       "      <td>56.00</td>\n",
       "      <td>Central</td>\n",
       "      <td>52.00</td>\n",
       "      <td>Central</td>\n",
       "      <td>Science</td>\n",
       "      <td>52.00</td>\n",
       "      <td>Sci&amp;Tech</td>\n",
       "      <td>No</td>\n",
       "      <td>66.0</td>\n",
       "      <td>Mkt&amp;HR</td>\n",
       "      <td>59.43</td>\n",
       "      <td>Not Placed</td>\n",
       "      <td>NaN</td>\n",
       "    </tr>\n",
       "    <tr>\n",
       "      <th>4</th>\n",
       "      <td>5.0</td>\n",
       "      <td>M</td>\n",
       "      <td>85.80</td>\n",
       "      <td>Central</td>\n",
       "      <td>73.60</td>\n",
       "      <td>Central</td>\n",
       "      <td>Commerce</td>\n",
       "      <td>73.30</td>\n",
       "      <td>Comm&amp;Mgmt</td>\n",
       "      <td>No</td>\n",
       "      <td>96.8</td>\n",
       "      <td>Mkt&amp;Fin</td>\n",
       "      <td>55.50</td>\n",
       "      <td>Placed</td>\n",
       "      <td>425000.0</td>\n",
       "    </tr>\n",
       "    <tr>\n",
       "      <th>...</th>\n",
       "      <td>...</td>\n",
       "      <td>...</td>\n",
       "      <td>...</td>\n",
       "      <td>...</td>\n",
       "      <td>...</td>\n",
       "      <td>...</td>\n",
       "      <td>...</td>\n",
       "      <td>...</td>\n",
       "      <td>...</td>\n",
       "      <td>...</td>\n",
       "      <td>...</td>\n",
       "      <td>...</td>\n",
       "      <td>...</td>\n",
       "      <td>...</td>\n",
       "      <td>...</td>\n",
       "    </tr>\n",
       "    <tr>\n",
       "      <th>212</th>\n",
       "      <td>211.0</td>\n",
       "      <td>M</td>\n",
       "      <td>80.60</td>\n",
       "      <td>Others</td>\n",
       "      <td>82.00</td>\n",
       "      <td>Others</td>\n",
       "      <td>Commerce</td>\n",
       "      <td>77.60</td>\n",
       "      <td>Comm&amp;Mgmt</td>\n",
       "      <td>No</td>\n",
       "      <td>91.0</td>\n",
       "      <td>Mkt&amp;Fin</td>\n",
       "      <td>74.49</td>\n",
       "      <td>Placed</td>\n",
       "      <td>400000.0</td>\n",
       "    </tr>\n",
       "    <tr>\n",
       "      <th>213</th>\n",
       "      <td>212.0</td>\n",
       "      <td>M</td>\n",
       "      <td>58.00</td>\n",
       "      <td>Others</td>\n",
       "      <td>60.00</td>\n",
       "      <td>Others</td>\n",
       "      <td>Science</td>\n",
       "      <td>72.00</td>\n",
       "      <td>Sci&amp;Tech</td>\n",
       "      <td>No</td>\n",
       "      <td>74.0</td>\n",
       "      <td>Mkt&amp;Fin</td>\n",
       "      <td>53.62</td>\n",
       "      <td>Placed</td>\n",
       "      <td>275000.0</td>\n",
       "    </tr>\n",
       "    <tr>\n",
       "      <th>214</th>\n",
       "      <td>213.0</td>\n",
       "      <td>M</td>\n",
       "      <td>67.00</td>\n",
       "      <td>Others</td>\n",
       "      <td>67.00</td>\n",
       "      <td>Others</td>\n",
       "      <td>Commerce</td>\n",
       "      <td>73.00</td>\n",
       "      <td>Comm&amp;Mgmt</td>\n",
       "      <td>Yes</td>\n",
       "      <td>59.0</td>\n",
       "      <td>Mkt&amp;Fin</td>\n",
       "      <td>69.72</td>\n",
       "      <td>Placed</td>\n",
       "      <td>295000.0</td>\n",
       "    </tr>\n",
       "    <tr>\n",
       "      <th>215</th>\n",
       "      <td>214.0</td>\n",
       "      <td>F</td>\n",
       "      <td>74.00</td>\n",
       "      <td>Others</td>\n",
       "      <td>66.00</td>\n",
       "      <td>Others</td>\n",
       "      <td>Commerce</td>\n",
       "      <td>58.00</td>\n",
       "      <td>Comm&amp;Mgmt</td>\n",
       "      <td>No</td>\n",
       "      <td>70.0</td>\n",
       "      <td>Mkt&amp;HR</td>\n",
       "      <td>60.23</td>\n",
       "      <td>Placed</td>\n",
       "      <td>204000.0</td>\n",
       "    </tr>\n",
       "    <tr>\n",
       "      <th>216</th>\n",
       "      <td>215.0</td>\n",
       "      <td>M</td>\n",
       "      <td>62.00</td>\n",
       "      <td>Central</td>\n",
       "      <td>58.00</td>\n",
       "      <td>Others</td>\n",
       "      <td>Science</td>\n",
       "      <td>53.00</td>\n",
       "      <td>Comm&amp;Mgmt</td>\n",
       "      <td>No</td>\n",
       "      <td>89.0</td>\n",
       "      <td>Mkt&amp;HR</td>\n",
       "      <td>60.22</td>\n",
       "      <td>Not Placed</td>\n",
       "      <td>NaN</td>\n",
       "    </tr>\n",
       "  </tbody>\n",
       "</table>\n",
       "<p>217 rows × 15 columns</p>\n",
       "</div>"
      ],
      "text/plain": [
       "     sl_no gender  ssc_p    ssc_b  hsc_p    hsc_b     hsc_s  degree_p  \\\n",
       "0      1.0      M  67.00   Others  91.00   Others  Commerce     58.00   \n",
       "1      2.0      M  79.33  Central  78.33   Others   Science     77.48   \n",
       "2      3.0      M  65.00  Central  68.00  Central      Arts     64.00   \n",
       "3      4.0      M  56.00  Central  52.00  Central   Science     52.00   \n",
       "4      5.0      M  85.80  Central  73.60  Central  Commerce     73.30   \n",
       "..     ...    ...    ...      ...    ...      ...       ...       ...   \n",
       "212  211.0      M  80.60   Others  82.00   Others  Commerce     77.60   \n",
       "213  212.0      M  58.00   Others  60.00   Others   Science     72.00   \n",
       "214  213.0      M  67.00   Others  67.00   Others  Commerce     73.00   \n",
       "215  214.0      F  74.00   Others  66.00   Others  Commerce     58.00   \n",
       "216  215.0      M  62.00  Central  58.00   Others   Science     53.00   \n",
       "\n",
       "      degree_t workex  etest_p specialisation  mba_p      status    salary  \n",
       "0     Sci&Tech     No     55.0         Mkt&HR  58.80      Placed  270000.0  \n",
       "1     Sci&Tech    Yes     86.5        Mkt&Fin  66.28      Placed  200000.0  \n",
       "2    Comm&Mgmt     No     75.0        Mkt&Fin  57.80      Placed  250000.0  \n",
       "3     Sci&Tech     No     66.0         Mkt&HR  59.43  Not Placed       NaN  \n",
       "4    Comm&Mgmt     No     96.8        Mkt&Fin  55.50      Placed  425000.0  \n",
       "..         ...    ...      ...            ...    ...         ...       ...  \n",
       "212  Comm&Mgmt     No     91.0        Mkt&Fin  74.49      Placed  400000.0  \n",
       "213   Sci&Tech     No     74.0        Mkt&Fin  53.62      Placed  275000.0  \n",
       "214  Comm&Mgmt    Yes     59.0        Mkt&Fin  69.72      Placed  295000.0  \n",
       "215  Comm&Mgmt     No     70.0         Mkt&HR  60.23      Placed  204000.0  \n",
       "216  Comm&Mgmt     No     89.0         Mkt&HR  60.22  Not Placed       NaN  \n",
       "\n",
       "[217 rows x 15 columns]"
      ]
     },
     "execution_count": 3,
     "metadata": {},
     "output_type": "execute_result"
    }
   ],
   "source": [
    "data_set"
   ]
  },
  {
   "cell_type": "markdown",
   "id": "71cac2a9-0d76-419c-aa6a-411d2a794c24",
   "metadata": {},
   "source": [
    "### 1) Replace the NaN values with correct value. And justify why you have chosen the same."
   ]
  },
  {
   "cell_type": "code",
   "execution_count": 4,
   "id": "1943600d-3f7a-41de-a2c5-c5fbf0d445ec",
   "metadata": {},
   "outputs": [],
   "source": [
    "data_set=data_set.drop(\"sl_no\",axis=1)\n",
    "#No need of sl_no column so drop that column"
   ]
  },
  {
   "cell_type": "code",
   "execution_count": 5,
   "id": "124530f6-4b20-470e-81ff-4933299db658",
   "metadata": {},
   "outputs": [],
   "source": [
    "data_set=data_set.dropna(how='all')\n",
    "# Remove rows where all values are NaN\n",
    "# 2 empty rows are deleted now"
   ]
  },
  {
   "cell_type": "code",
   "execution_count": 6,
   "id": "f33c2184-ead7-421f-b194-76ea4f4c6120",
   "metadata": {},
   "outputs": [
    {
     "data": {
      "text/plain": [
       "gender             0\n",
       "ssc_p              0\n",
       "ssc_b              0\n",
       "hsc_p              0\n",
       "hsc_b              0\n",
       "hsc_s              0\n",
       "degree_p           0\n",
       "degree_t           0\n",
       "workex             0\n",
       "etest_p            0\n",
       "specialisation     0\n",
       "mba_p              0\n",
       "status             0\n",
       "salary            67\n",
       "dtype: int64"
      ]
     },
     "execution_count": 6,
     "metadata": {},
     "output_type": "execute_result"
    }
   ],
   "source": [
    "data_set.isnull().sum()"
   ]
  },
  {
   "cell_type": "code",
   "execution_count": 7,
   "id": "fc9bc999-ad52-4757-a9b1-6106ae9df75d",
   "metadata": {},
   "outputs": [],
   "source": [
    "def Univariate(data):\n",
    "    Qual=[]\n",
    "    Quan=[]\n",
    "    for y in data_set.columns:\n",
    "        if data_set[y].dtype=='O':\n",
    "            Qual.append(y)\n",
    "        else:\n",
    "            Quan.append(y)\n",
    "    return Qual,Quan"
   ]
  },
  {
   "cell_type": "code",
   "execution_count": 8,
   "id": "3d4a258e-f784-4ee6-8d28-9f86d48880ac",
   "metadata": {},
   "outputs": [],
   "source": [
    "qual,quan=Univariate(data_set)"
   ]
  },
  {
   "cell_type": "code",
   "execution_count": 9,
   "id": "b33b0cd7-1ecf-4af9-a38e-da4b648703af",
   "metadata": {},
   "outputs": [],
   "source": [
    "#Here salary columns only had null value because of the Not Placed students\n",
    "#so we replaced the zero to not placed students data"
   ]
  },
  {
   "cell_type": "code",
   "execution_count": 10,
   "id": "b00879d6-47b0-4999-9da8-3092c21d110a",
   "metadata": {},
   "outputs": [
    {
     "data": {
      "text/plain": [
       "array(['Placed', 'Not Placed'], dtype=object)"
      ]
     },
     "execution_count": 10,
     "metadata": {},
     "output_type": "execute_result"
    }
   ],
   "source": [
    "#To check the all data in status column\n",
    "data_set['status'].unique()"
   ]
  },
  {
   "cell_type": "code",
   "execution_count": 11,
   "id": "1375aecb-4a6d-4ad5-9ae6-6449a2fdd5c1",
   "metadata": {},
   "outputs": [
    {
     "data": {
      "text/plain": [
       "gender            0\n",
       "ssc_p             0\n",
       "ssc_b             0\n",
       "hsc_p             0\n",
       "hsc_b             0\n",
       "hsc_s             0\n",
       "degree_p          0\n",
       "degree_t          0\n",
       "workex            0\n",
       "etest_p           0\n",
       "specialisation    0\n",
       "mba_p             0\n",
       "status            0\n",
       "salary            0\n",
       "dtype: int64"
      ]
     },
     "execution_count": 11,
     "metadata": {},
     "output_type": "execute_result"
    }
   ],
   "source": [
    "#To check the if Placed students have null value are not in salary column\n",
    "data_set[(data_set['status'] == 'Placed')].isnull().sum()"
   ]
  },
  {
   "cell_type": "code",
   "execution_count": 12,
   "id": "4ece5d4f-606f-4830-83f4-43fe52003e5d",
   "metadata": {},
   "outputs": [
    {
     "data": {
      "text/plain": [
       "gender             0\n",
       "ssc_p              0\n",
       "ssc_b              0\n",
       "hsc_p              0\n",
       "hsc_b              0\n",
       "hsc_s              0\n",
       "degree_p           0\n",
       "degree_t           0\n",
       "workex             0\n",
       "etest_p            0\n",
       "specialisation     0\n",
       "mba_p              0\n",
       "status             0\n",
       "salary            67\n",
       "dtype: int64"
      ]
     },
     "execution_count": 12,
     "metadata": {},
     "output_type": "execute_result"
    }
   ],
   "source": [
    "data_set[(data_set['status'] == 'Not Placed')].isnull().sum()"
   ]
  },
  {
   "cell_type": "code",
   "execution_count": 13,
   "id": "f55da12e-a05d-4354-a475-8c5626f6b543",
   "metadata": {
    "scrolled": true
   },
   "outputs": [
    {
     "data": {
      "text/plain": [
       "gender            0\n",
       "ssc_p             0\n",
       "ssc_b             0\n",
       "hsc_p             0\n",
       "hsc_b             0\n",
       "hsc_s             0\n",
       "degree_p          0\n",
       "degree_t          0\n",
       "workex            0\n",
       "etest_p           0\n",
       "specialisation    0\n",
       "mba_p             0\n",
       "status            0\n",
       "salary            0\n",
       "dtype: int64"
      ]
     },
     "execution_count": 13,
     "metadata": {},
     "output_type": "execute_result"
    }
   ],
   "source": [
    "#Placed categorie data doesn't have null value, so replaced the null value to 0 because of the student's not placed.\n",
    "data_set[\"salary\"]=data_set[\"salary\"].fillna(0)\n",
    "data_set.isna().sum()"
   ]
  },
  {
   "cell_type": "code",
   "execution_count": null,
   "id": "952af608-74b7-4f35-8f9f-0d4f3851d0dd",
   "metadata": {},
   "outputs": [],
   "source": []
  },
  {
   "cell_type": "markdown",
   "id": "a3697f15-64f2-4508-9bb0-735c44d74f73",
   "metadata": {},
   "source": [
    "### 2)How many of them are not placed?"
   ]
  },
  {
   "cell_type": "code",
   "execution_count": 14,
   "id": "ae5dabdc-aad2-4667-a218-623d16bf0071",
   "metadata": {},
   "outputs": [
    {
     "data": {
      "text/plain": [
       "status\n",
       "Placed        148\n",
       "Not Placed     67\n",
       "Name: count, dtype: int64"
      ]
     },
     "execution_count": 14,
     "metadata": {},
     "output_type": "execute_result"
    }
   ],
   "source": [
    "data_set[\"status\"].value_counts()\n",
    "#To get the total values in categorical data, use frequency.\n",
    "#Placed,Not=data_set[\"status\"].value_counts()\n",
    "#67 of the students are Not Placed"
   ]
  },
  {
   "cell_type": "code",
   "execution_count": null,
   "id": "681958b9-54dc-4547-8aab-68b212c2ec3d",
   "metadata": {},
   "outputs": [],
   "source": []
  },
  {
   "cell_type": "markdown",
   "id": "20db19e6-8f28-4f21-aa7b-8de382c38e87",
   "metadata": {},
   "source": [
    "### 3)Find the reason for non placement from the dataset?"
   ]
  },
  {
   "cell_type": "code",
   "execution_count": 68,
   "id": "78c50215-11d1-48f2-bdf9-c385cd1fa10c",
   "metadata": {},
   "outputs": [],
   "source": [
    "#In this dataset tells about studens details, so we can compare there mark who all are not placed.In correlation or anova"
   ]
  },
  {
   "cell_type": "code",
   "execution_count": 93,
   "id": "1fe40697-79eb-455c-b20d-eb9e8565d334",
   "metadata": {},
   "outputs": [],
   "source": [
    "#store the placed and not placed student in seprate variable, for easy to find result.\n",
    "data_1=data_set[(data_set['status'] == 'Placed')]\n",
    "data_2=data_set[(data_set['status'] == 'Not Placed')]"
   ]
  },
  {
   "cell_type": "code",
   "execution_count": 97,
   "id": "069230c8-62f3-481a-961b-794b7ca7432a",
   "metadata": {},
   "outputs": [
    {
     "data": {
      "text/plain": [
       "ssc_p           71.721486\n",
       "hsc_p           69.926554\n",
       "degree_p        68.740541\n",
       "etest_p         73.238041\n",
       "mba_p           62.579392\n",
       "salary      288655.405405\n",
       "dtype: float64"
      ]
     },
     "execution_count": 97,
     "metadata": {},
     "output_type": "execute_result"
    }
   ],
   "source": [
    "#placed student data\n",
    "data_1[quan].mean()"
   ]
  },
  {
   "cell_type": "code",
   "execution_count": 98,
   "id": "8445b270-97be-45fa-8678-be4ceff994c7",
   "metadata": {},
   "outputs": [
    {
     "data": {
      "text/plain": [
       "ssc_p       57.544030\n",
       "hsc_p       58.395522\n",
       "degree_p    61.134179\n",
       "etest_p     69.587910\n",
       "mba_p       61.612836\n",
       "salary       0.000000\n",
       "dtype: float64"
      ]
     },
     "execution_count": 98,
     "metadata": {},
     "output_type": "execute_result"
    }
   ],
   "source": [
    "#not placed student data\n",
    "data_2[quan].mean()"
   ]
  },
  {
   "cell_type": "code",
   "execution_count": 99,
   "id": "bcbad3d8-4b3d-465a-86f7-4926b1846dae",
   "metadata": {},
   "outputs": [],
   "source": [
    "#not placed student average score was less score compare to placed student, so there student got less score in ssc_p and hsc_p that why there it affected the other score.\n",
    "#so there not getting the placement due to there scores"
   ]
  },
  {
   "cell_type": "code",
   "execution_count": null,
   "id": "d316f3da-dc6f-4888-8212-e3b34b5f7e8f",
   "metadata": {},
   "outputs": [],
   "source": []
  },
  {
   "cell_type": "markdown",
   "id": "cc0f2916-fb9c-42ef-9748-776bd0933c1c",
   "metadata": {},
   "source": [
    "### 4)What kind of relation between salary and mba_p ?"
   ]
  },
  {
   "cell_type": "code",
   "execution_count": 16,
   "id": "1b2025fb-497b-4874-abf2-7786a622f1e2",
   "metadata": {},
   "outputs": [
    {
     "data": {
      "text/html": [
       "<div>\n",
       "<style scoped>\n",
       "    .dataframe tbody tr th:only-of-type {\n",
       "        vertical-align: middle;\n",
       "    }\n",
       "\n",
       "    .dataframe tbody tr th {\n",
       "        vertical-align: top;\n",
       "    }\n",
       "\n",
       "    .dataframe thead th {\n",
       "        text-align: right;\n",
       "    }\n",
       "</style>\n",
       "<table border=\"1\" class=\"dataframe\">\n",
       "  <thead>\n",
       "    <tr style=\"text-align: right;\">\n",
       "      <th></th>\n",
       "      <th>salary</th>\n",
       "      <th>mba_p</th>\n",
       "    </tr>\n",
       "  </thead>\n",
       "  <tbody>\n",
       "    <tr>\n",
       "      <th>salary</th>\n",
       "      <td>1.000000</td>\n",
       "      <td>0.139823</td>\n",
       "    </tr>\n",
       "    <tr>\n",
       "      <th>mba_p</th>\n",
       "      <td>0.139823</td>\n",
       "      <td>1.000000</td>\n",
       "    </tr>\n",
       "  </tbody>\n",
       "</table>\n",
       "</div>"
      ],
      "text/plain": [
       "          salary     mba_p\n",
       "salary  1.000000  0.139823\n",
       "mba_p   0.139823  1.000000"
      ]
     },
     "execution_count": 16,
     "metadata": {},
     "output_type": "execute_result"
    }
   ],
   "source": [
    "data_set[[\"salary\",\"mba_p\"]].corr()"
   ]
  },
  {
   "cell_type": "code",
   "execution_count": 18,
   "id": "cff72979-4833-4086-b565-50b2dd543a20",
   "metadata": {},
   "outputs": [],
   "source": [
    "#Correlation value was 0.13 so it week relation between salary and mba_p"
   ]
  },
  {
   "cell_type": "code",
   "execution_count": null,
   "id": "093c1cb1-2174-49e0-b6a7-b391d65a8f86",
   "metadata": {},
   "outputs": [],
   "source": []
  },
  {
   "cell_type": "markdown",
   "id": "4e41289f-f620-459e-be99-5f23920218ad",
   "metadata": {},
   "source": [
    "### 5)Which specialization is getting minimum salary?"
   ]
  },
  {
   "cell_type": "code",
   "execution_count": 20,
   "id": "7cd76222-0fce-440a-a223-1506b64f7530",
   "metadata": {},
   "outputs": [
    {
     "data": {
      "text/plain": [
       "array(['Mkt&HR', 'Mkt&Fin'], dtype=object)"
      ]
     },
     "execution_count": 20,
     "metadata": {},
     "output_type": "execute_result"
    }
   ],
   "source": [
    "data_set[\"specialisation\"].unique()"
   ]
  },
  {
   "cell_type": "code",
   "execution_count": 157,
   "id": "5073db5f-2bd1-41e0-a075-026c2ebe84d6",
   "metadata": {},
   "outputs": [
    {
     "data": {
      "text/plain": [
       "specialisation\n",
       "Mkt&Fin    200000.0\n",
       "Mkt&HR     200000.0\n",
       "Name: salary, dtype: float64"
      ]
     },
     "execution_count": 157,
     "metadata": {},
     "output_type": "execute_result"
    }
   ],
   "source": [
    "placed=data_set[(data_set['status'] == 'Placed')]\n",
    "placed.groupby(\"specialisation\")[\"salary\"].min()"
   ]
  },
  {
   "cell_type": "code",
   "execution_count": 38,
   "id": "6472d4f8-d862-4ae7-a9cd-f0bf93b0459d",
   "metadata": {},
   "outputs": [],
   "source": [
    "#we replaced the 0 values to not placed student so we have to not placed to find the min salary else we can give more then 0 condition"
   ]
  },
  {
   "cell_type": "code",
   "execution_count": 39,
   "id": "62048e3a-6d5a-4a8a-b6ea-9ffce0e2ecd7",
   "metadata": {},
   "outputs": [],
   "source": [
    "filtered=data_set[data_set[\"salary\"]>0]"
   ]
  },
  {
   "cell_type": "code",
   "execution_count": 40,
   "id": "dd2ed2b5-ae31-4d00-86b1-bb82ceff7aab",
   "metadata": {},
   "outputs": [
    {
     "data": {
      "text/plain": [
       "specialisation\n",
       "Mkt&Fin    200000.0\n",
       "Mkt&HR     200000.0\n",
       "Name: salary, dtype: float64"
      ]
     },
     "execution_count": 40,
     "metadata": {},
     "output_type": "execute_result"
    }
   ],
   "source": [
    "filtered.groupby(\"specialisation\")[\"salary\"].min()"
   ]
  },
  {
   "cell_type": "code",
   "execution_count": 41,
   "id": "4b1fbef3-134a-4f3f-8738-3d8f1930dcfa",
   "metadata": {},
   "outputs": [],
   "source": [
    "# mins salary of Mkt&Fin : 200000.0 and Mkt&HR : 200000.0"
   ]
  },
  {
   "cell_type": "code",
   "execution_count": null,
   "id": "ef391070-dd32-4a2a-b0f7-366109e9c907",
   "metadata": {},
   "outputs": [],
   "source": []
  },
  {
   "cell_type": "markdown",
   "id": "bb82e972-2777-4d34-b341-069d0d62986a",
   "metadata": {},
   "source": [
    "### 6)How many of them getting above 500000 salary?"
   ]
  },
  {
   "cell_type": "code",
   "execution_count": 57,
   "id": "ba0659a4-8cf4-4915-a05b-b506fc33abf5",
   "metadata": {},
   "outputs": [],
   "source": [
    "fill=data_set[data_set[\"salary\"]>500000]"
   ]
  },
  {
   "cell_type": "code",
   "execution_count": 58,
   "id": "e31b0ebc-02c1-404a-ada9-0aae99704557",
   "metadata": {},
   "outputs": [
    {
     "data": {
      "text/html": [
       "<div>\n",
       "<style scoped>\n",
       "    .dataframe tbody tr th:only-of-type {\n",
       "        vertical-align: middle;\n",
       "    }\n",
       "\n",
       "    .dataframe tbody tr th {\n",
       "        vertical-align: top;\n",
       "    }\n",
       "\n",
       "    .dataframe thead th {\n",
       "        text-align: right;\n",
       "    }\n",
       "</style>\n",
       "<table border=\"1\" class=\"dataframe\">\n",
       "  <thead>\n",
       "    <tr style=\"text-align: right;\">\n",
       "      <th></th>\n",
       "      <th>gender</th>\n",
       "      <th>ssc_p</th>\n",
       "      <th>ssc_b</th>\n",
       "      <th>hsc_p</th>\n",
       "      <th>hsc_b</th>\n",
       "      <th>hsc_s</th>\n",
       "      <th>degree_p</th>\n",
       "      <th>degree_t</th>\n",
       "      <th>workex</th>\n",
       "      <th>etest_p</th>\n",
       "      <th>specialisation</th>\n",
       "      <th>mba_p</th>\n",
       "      <th>status</th>\n",
       "      <th>salary</th>\n",
       "    </tr>\n",
       "  </thead>\n",
       "  <tbody>\n",
       "    <tr>\n",
       "      <th>121</th>\n",
       "      <td>M</td>\n",
       "      <td>60.8</td>\n",
       "      <td>Central</td>\n",
       "      <td>68.40</td>\n",
       "      <td>Central</td>\n",
       "      <td>Commerce</td>\n",
       "      <td>64.6</td>\n",
       "      <td>Comm&amp;Mgmt</td>\n",
       "      <td>Yes</td>\n",
       "      <td>82.66</td>\n",
       "      <td>Mkt&amp;Fin</td>\n",
       "      <td>64.34</td>\n",
       "      <td>Placed</td>\n",
       "      <td>940000.0</td>\n",
       "    </tr>\n",
       "    <tr>\n",
       "      <th>152</th>\n",
       "      <td>M</td>\n",
       "      <td>71.0</td>\n",
       "      <td>Central</td>\n",
       "      <td>58.66</td>\n",
       "      <td>Central</td>\n",
       "      <td>Science</td>\n",
       "      <td>58.0</td>\n",
       "      <td>Sci&amp;Tech</td>\n",
       "      <td>Yes</td>\n",
       "      <td>56.00</td>\n",
       "      <td>Mkt&amp;Fin</td>\n",
       "      <td>61.30</td>\n",
       "      <td>Placed</td>\n",
       "      <td>690000.0</td>\n",
       "    </tr>\n",
       "    <tr>\n",
       "      <th>179</th>\n",
       "      <td>F</td>\n",
       "      <td>73.0</td>\n",
       "      <td>Central</td>\n",
       "      <td>97.00</td>\n",
       "      <td>Others</td>\n",
       "      <td>Commerce</td>\n",
       "      <td>79.0</td>\n",
       "      <td>Comm&amp;Mgmt</td>\n",
       "      <td>Yes</td>\n",
       "      <td>89.00</td>\n",
       "      <td>Mkt&amp;Fin</td>\n",
       "      <td>70.81</td>\n",
       "      <td>Placed</td>\n",
       "      <td>650000.0</td>\n",
       "    </tr>\n",
       "  </tbody>\n",
       "</table>\n",
       "</div>"
      ],
      "text/plain": [
       "    gender  ssc_p    ssc_b  hsc_p    hsc_b     hsc_s  degree_p   degree_t  \\\n",
       "121      M   60.8  Central  68.40  Central  Commerce      64.6  Comm&Mgmt   \n",
       "152      M   71.0  Central  58.66  Central   Science      58.0   Sci&Tech   \n",
       "179      F   73.0  Central  97.00   Others  Commerce      79.0  Comm&Mgmt   \n",
       "\n",
       "    workex  etest_p specialisation  mba_p  status    salary  \n",
       "121    Yes    82.66        Mkt&Fin  64.34  Placed  940000.0  \n",
       "152    Yes    56.00        Mkt&Fin  61.30  Placed  690000.0  \n",
       "179    Yes    89.00        Mkt&Fin  70.81  Placed  650000.0  "
      ]
     },
     "execution_count": 58,
     "metadata": {},
     "output_type": "execute_result"
    }
   ],
   "source": [
    "fill"
   ]
  },
  {
   "cell_type": "code",
   "execution_count": 60,
   "id": "6b97291c-787d-409f-b47e-b0f69410f468",
   "metadata": {},
   "outputs": [
    {
     "name": "stdout",
     "output_type": "stream",
     "text": [
      "Total no of students getting above 500000 Salary : 3\n"
     ]
    }
   ],
   "source": [
    "print(\"Total no of students getting above 500000 Salary :\",fill.shape[0])"
   ]
  },
  {
   "cell_type": "code",
   "execution_count": null,
   "id": "f5679b0d-79c9-4cb5-9c84-5bbbbf6726c3",
   "metadata": {},
   "outputs": [],
   "source": []
  },
  {
   "cell_type": "markdown",
   "id": "0165e656-899e-4892-a27a-59003a37d9b2",
   "metadata": {},
   "source": [
    "### 7)Test the Analysis of Variance between etest_p and mba_p at signifance level 5%.(Make decision using Hypothesis Testing)"
   ]
  },
  {
   "cell_type": "code",
   "execution_count": 164,
   "id": "51091bd3-7c86-49b9-bc45-139f2aa125b4",
   "metadata": {},
   "outputs": [
    {
     "name": "stdout",
     "output_type": "stream",
     "text": [
      "0.000000000000000000004672547689\n"
     ]
    }
   ],
   "source": [
    "import scipy.stats as stats\n",
    "s_value,p_value=stats.f_oneway(data_set[\"etest_p\"],data_set[\"mba_p\"])\n",
    "float(p_value)\n",
    "print('{:.30f}'.format(p_value)) "
   ]
  },
  {
   "cell_type": "code",
   "execution_count": 165,
   "id": "654d0db5-52c0-43ec-bae1-e2ed9442e0b0",
   "metadata": {},
   "outputs": [],
   "source": [
    "#p_value was 0.00<0.05 so it reject the Null hypothesis, there is Signifance diffrent between etest_p and mab_p"
   ]
  },
  {
   "cell_type": "code",
   "execution_count": null,
   "id": "69e1fbfe-18dd-4546-abef-f26846fe0a70",
   "metadata": {},
   "outputs": [],
   "source": []
  },
  {
   "cell_type": "markdown",
   "id": "bd0c3db5-1f5b-48ee-a4fd-21b856556bf2",
   "metadata": {},
   "source": [
    "### 8)Test the similarity between the degree_t(Sci&Tech) and specialisation(Mkt&HR) with respect to salary at significance level of 5%.(Make decision using Hypothesis Testing)"
   ]
  },
  {
   "cell_type": "code",
   "execution_count": 100,
   "id": "8bc0c721-181e-43f0-9392-d88a5998b4f6",
   "metadata": {},
   "outputs": [],
   "source": [
    "#for this we have to find the similarity so we use T_test"
   ]
  },
  {
   "cell_type": "code",
   "execution_count": 102,
   "id": "38898bbd-0db1-4888-bba5-05d468dec375",
   "metadata": {},
   "outputs": [
    {
     "data": {
      "text/plain": [
       "TtestResult(statistic=np.float64(2.692041243555374), pvalue=np.float64(0.007897969943471179), df=np.float64(152.0))"
      ]
     },
     "execution_count": 102,
     "metadata": {},
     "output_type": "execute_result"
    }
   ],
   "source": [
    "from scipy.stats import ttest_ind\n",
    "Sci=data_set[data_set[\"degree_t\"]==\"Sci&Tech\"][\"salary\"]\n",
    "Spe=data_set[data_set[\"specialisation\"]==\"Mkt&HR\"][\"salary\"]\n",
    "ttest_ind(Sci,Spe)"
   ]
  },
  {
   "cell_type": "code",
   "execution_count": null,
   "id": "0d872a99-3a68-42e1-ac03-be5a36b8b9e1",
   "metadata": {},
   "outputs": [],
   "source": [
    "#P_value was <0.05 so it reject the null hypothesis, means degree_t(Sci&Tech) and specialisation(Mkt&HR) have similarity with salary."
   ]
  },
  {
   "cell_type": "code",
   "execution_count": null,
   "id": "9895c3c9-22dd-438d-bc8d-e10744e9c145",
   "metadata": {},
   "outputs": [],
   "source": []
  },
  {
   "cell_type": "markdown",
   "id": "e438d503-e0f2-4bd2-9796-c2f10885b78f",
   "metadata": {},
   "source": [
    "### 9)Convert the normal distribution to standard normal distribution for salary column"
   ]
  },
  {
   "cell_type": "code",
   "execution_count": 104,
   "id": "277b1008-8258-4797-91bb-e0a20a9b215c",
   "metadata": {},
   "outputs": [],
   "source": [
    "def StdNDgraph(data):\n",
    "    import seaborn as sns\n",
    "    from scipy import stats\n",
    "    ##Find the z_scoer value\n",
    "    z_score=stats.zscore(data)\n",
    "    sns.distplot(z_score,kde=True)"
   ]
  },
  {
   "cell_type": "code",
   "execution_count": 105,
   "id": "d1811dfd-ba2c-4b63-a024-10ba9a287304",
   "metadata": {},
   "outputs": [
    {
     "name": "stderr",
     "output_type": "stream",
     "text": [
      "C:\\Users\\smani\\AppData\\Local\\Temp\\ipykernel_12104\\2616129045.py:6: UserWarning: \n",
      "\n",
      "`distplot` is a deprecated function and will be removed in seaborn v0.14.0.\n",
      "\n",
      "Please adapt your code to use either `displot` (a figure-level function with\n",
      "similar flexibility) or `histplot` (an axes-level function for histograms).\n",
      "\n",
      "For a guide to updating your code to use the new functions, please see\n",
      "https://gist.github.com/mwaskom/de44147ed2974457ad6372750bbe5751\n",
      "\n",
      "  sns.distplot(z_score,kde=True)\n"
     ]
    },
    {
     "data": {
      "image/png": "[encoded data removed]",
      "text/plain": [
       "<Figure size 640x480 with 1 Axes>"
      ]
     },
     "metadata": {},
     "output_type": "display_data"
    }
   ],
   "source": [
    "StdNDgraph(data_set[\"salary\"])"
   ]
  },
  {
   "cell_type": "code",
   "execution_count": 109,
   "id": "9a3ecba0-7538-410f-a846-9a3ca0e439d9",
   "metadata": {},
   "outputs": [],
   "source": [
    "#This digram not in ball shape means salary columns was not normally distributed"
   ]
  },
  {
   "cell_type": "code",
   "execution_count": null,
   "id": "15b274e9-4b1f-4cd4-865b-ad03e148dffd",
   "metadata": {},
   "outputs": [],
   "source": []
  },
  {
   "cell_type": "markdown",
   "id": "0bda39d0-8e03-4e4c-bab5-765e36960045",
   "metadata": {},
   "source": [
    "### 10)What is the probability Density Function of the salary range from 700000 to 900000?"
   ]
  },
  {
   "cell_type": "code",
   "execution_count": 110,
   "id": "2a2a2f22-1381-406b-b345-a7da16ffa18b",
   "metadata": {},
   "outputs": [],
   "source": [
    "def pdf_probability(dataset,startrange,endrange):\n",
    "    from matplotlib import pyplot\n",
    "    from scipy.stats import norm\n",
    "    import seaborn as sns\n",
    "    #To plot the diagram \n",
    "    ai=sns.distplot(dataset,kde=True,kde_kws={\"color\":\"Green\"},color=\"blue\")\n",
    "    pyplot.axvline(startrange,color=\"Red\")\n",
    "    pyplot.axvline(endrange,color=\"Red\")\n",
    "    sample=dataset\n",
    "    \n",
    "    #calculate mean and std\n",
    "    sample_mean=sample.mean()\n",
    "    sample_std=sample.std()\n",
    "    print(\"Mean=%.3f, Standard Deviation=%.3f\" % (sample_mean,sample_std))\n",
    "    \n",
    "    #define the distribution this is for normal distribution\n",
    "    dist=norm(sample_mean,sample_std)\n",
    "    \n",
    "    #Total range presentage which means starting and ending range density value\n",
    "    values=[value for value in range(startrange, endrange)]\n",
    "    probabilites = [dist.pdf(value) for value in values]\n",
    "    prob=sum(probabilites)\n",
    "    print(\"The area between the range({},{}):{}\".format(startrange,endrange,sum(probabilites)))\n",
    "    return prob"
   ]
  },
  {
   "cell_type": "code",
   "execution_count": 111,
   "id": "b01c8add-5e01-4ae0-9057-c931c7cc1cb4",
   "metadata": {},
   "outputs": [
    {
     "name": "stderr",
     "output_type": "stream",
     "text": [
      "C:\\Users\\smani\\AppData\\Local\\Temp\\ipykernel_12104\\711953059.py:6: UserWarning: \n",
      "\n",
      "`distplot` is a deprecated function and will be removed in seaborn v0.14.0.\n",
      "\n",
      "Please adapt your code to use either `displot` (a figure-level function with\n",
      "similar flexibility) or `histplot` (an axes-level function for histograms).\n",
      "\n",
      "For a guide to updating your code to use the new functions, please see\n",
      "https://gist.github.com/mwaskom/de44147ed2974457ad6372750bbe5751\n",
      "\n",
      "  ai=sns.distplot(dataset,kde=True,kde_kws={\"color\":\"Green\"},color=\"blue\")\n"
     ]
    },
    {
     "name": "stdout",
     "output_type": "stream",
     "text": [
      "Mean=198702.326, Standard Deviation=154780.927\n",
      "The area between the range(700000,900000):0.0005973310593974868\n"
     ]
    },
    {
     "data": {
      "text/plain": [
       "np.float64(0.0005973310593974868)"
      ]
     },
     "execution_count": 111,
     "metadata": {},
     "output_type": "execute_result"
    },
    {
     "data": {
      "image/png": "[encoded data removed]",
      "text/plain": [
       "<Figure size 640x480 with 1 Axes>"
      ]
     },
     "metadata": {},
     "output_type": "display_data"
    }
   ],
   "source": [
    "pdf_probability(data_set[\"salary\"],700000,900000)"
   ]
  },
  {
   "cell_type": "code",
   "execution_count": 112,
   "id": "5e46747a-a194-4203-be72-e19bb6aaefb3",
   "metadata": {},
   "outputs": [],
   "source": [
    "#we got the 0.0005 0.5% of the salary range from 700000 to 900000 in total percentage in salary column."
   ]
  },
  {
   "cell_type": "code",
   "execution_count": null,
   "id": "cdf7112b-4900-4dce-917b-856070df45f8",
   "metadata": {},
   "outputs": [],
   "source": []
  },
  {
   "cell_type": "markdown",
   "id": "9ad43589-ec9b-4495-a543-c273d677e82f",
   "metadata": {},
   "source": [
    "### 11)Test the similarity between the degree_t(Sci&Tech)with respect to etest_p and mba_p at significance level of 5%.(Make decision using Hypothesis Testing)"
   ]
  },
  {
   "cell_type": "code",
   "execution_count": 114,
   "id": "9adac44d-ff92-43e8-bd6b-3c76d196eaa7",
   "metadata": {},
   "outputs": [
    {
     "data": {
      "text/plain": [
       "TtestResult(statistic=np.float64(5.0049844583693615), pvalue=np.float64(5.517920600505392e-06), df=np.int64(58))"
      ]
     },
     "execution_count": 114,
     "metadata": {},
     "output_type": "execute_result"
    }
   ],
   "source": [
    "from scipy.stats import ttest_rel\n",
    "e_test=data_set[data_set[\"degree_t\"]==\"Sci&Tech\"][\"etest_p\"]\n",
    "mba_p=data_set[data_set[\"degree_t\"]==\"Sci&Tech\"][\"mba_p\"]\n",
    "ttest_rel(e_test,mba_p)"
   ]
  },
  {
   "cell_type": "code",
   "execution_count": 115,
   "id": "f563d7fd-0dfa-4e5e-a953-114aed8814c3",
   "metadata": {},
   "outputs": [],
   "source": [
    "#p_value was >0.05 meaning it's Null hypothesis. degree_t(Sci&Tech) students have no similarity between etest_p and mba_p, more different."
   ]
  },
  {
   "cell_type": "code",
   "execution_count": null,
   "id": "bf44b03c-7bd2-41e2-bce1-2d22482aec0c",
   "metadata": {},
   "outputs": [],
   "source": []
  },
  {
   "cell_type": "markdown",
   "id": "ab9dcc76-4e95-4975-b175-001fe067d472",
   "metadata": {},
   "source": [
    "### 12)Which parameter is highly correlated with salary?"
   ]
  },
  {
   "cell_type": "code",
   "execution_count": 64,
   "id": "0ce2ada0-b9de-4fab-ae80-c6ee8708f6c5",
   "metadata": {},
   "outputs": [
    {
     "data": {
      "text/html": [
       "<div>\n",
       "<style scoped>\n",
       "    .dataframe tbody tr th:only-of-type {\n",
       "        vertical-align: middle;\n",
       "    }\n",
       "\n",
       "    .dataframe tbody tr th {\n",
       "        vertical-align: top;\n",
       "    }\n",
       "\n",
       "    .dataframe thead th {\n",
       "        text-align: right;\n",
       "    }\n",
       "</style>\n",
       "<table border=\"1\" class=\"dataframe\">\n",
       "  <thead>\n",
       "    <tr style=\"text-align: right;\">\n",
       "      <th></th>\n",
       "      <th>ssc_p</th>\n",
       "      <th>hsc_p</th>\n",
       "      <th>degree_p</th>\n",
       "      <th>etest_p</th>\n",
       "      <th>mba_p</th>\n",
       "      <th>salary</th>\n",
       "    </tr>\n",
       "  </thead>\n",
       "  <tbody>\n",
       "    <tr>\n",
       "      <th>ssc_p</th>\n",
       "      <td>1.000000</td>\n",
       "      <td>0.511472</td>\n",
       "      <td>0.538404</td>\n",
       "      <td>0.261993</td>\n",
       "      <td>0.388478</td>\n",
       "      <td>0.538090</td>\n",
       "    </tr>\n",
       "    <tr>\n",
       "      <th>hsc_p</th>\n",
       "      <td>0.511472</td>\n",
       "      <td>1.000000</td>\n",
       "      <td>0.434206</td>\n",
       "      <td>0.245113</td>\n",
       "      <td>0.354823</td>\n",
       "      <td>0.452569</td>\n",
       "    </tr>\n",
       "    <tr>\n",
       "      <th>degree_p</th>\n",
       "      <td>0.538404</td>\n",
       "      <td>0.434206</td>\n",
       "      <td>1.000000</td>\n",
       "      <td>0.224470</td>\n",
       "      <td>0.402364</td>\n",
       "      <td>0.408371</td>\n",
       "    </tr>\n",
       "    <tr>\n",
       "      <th>etest_p</th>\n",
       "      <td>0.261993</td>\n",
       "      <td>0.245113</td>\n",
       "      <td>0.224470</td>\n",
       "      <td>1.000000</td>\n",
       "      <td>0.218055</td>\n",
       "      <td>0.186988</td>\n",
       "    </tr>\n",
       "    <tr>\n",
       "      <th>mba_p</th>\n",
       "      <td>0.388478</td>\n",
       "      <td>0.354823</td>\n",
       "      <td>0.402364</td>\n",
       "      <td>0.218055</td>\n",
       "      <td>1.000000</td>\n",
       "      <td>0.139823</td>\n",
       "    </tr>\n",
       "    <tr>\n",
       "      <th>salary</th>\n",
       "      <td>0.538090</td>\n",
       "      <td>0.452569</td>\n",
       "      <td>0.408371</td>\n",
       "      <td>0.186988</td>\n",
       "      <td>0.139823</td>\n",
       "      <td>1.000000</td>\n",
       "    </tr>\n",
       "  </tbody>\n",
       "</table>\n",
       "</div>"
      ],
      "text/plain": [
       "             ssc_p     hsc_p  degree_p   etest_p     mba_p    salary\n",
       "ssc_p     1.000000  0.511472  0.538404  0.261993  0.388478  0.538090\n",
       "hsc_p     0.511472  1.000000  0.434206  0.245113  0.354823  0.452569\n",
       "degree_p  0.538404  0.434206  1.000000  0.224470  0.402364  0.408371\n",
       "etest_p   0.261993  0.245113  0.224470  1.000000  0.218055  0.186988\n",
       "mba_p     0.388478  0.354823  0.402364  0.218055  1.000000  0.139823\n",
       "salary    0.538090  0.452569  0.408371  0.186988  0.139823  1.000000"
      ]
     },
     "execution_count": 64,
     "metadata": {},
     "output_type": "execute_result"
    }
   ],
   "source": [
    "data_set[quan].corr()"
   ]
  },
  {
   "cell_type": "code",
   "execution_count": 65,
   "id": "edccd71d-ec3e-44a8-b5a8-a77883109f88",
   "metadata": {},
   "outputs": [],
   "source": [
    "#ssc_p was highly correlated with salary 0.53 Moderate correlation"
   ]
  },
  {
   "cell_type": "markdown",
   "id": "975f7bc9-add5-491a-af95-5a8caae21829",
   "metadata": {},
   "source": [
    "### 13) plot any useful graph and explain it."
   ]
  },
  {
   "cell_type": "code",
   "execution_count": 128,
   "id": "b566ef98-40c8-439a-8a6c-b94149f6fcdd",
   "metadata": {},
   "outputs": [
    {
     "data": {
      "image/png": "[encoded data removed]",
      "text/plain": [
       "<Figure size 800x600 with 1 Axes>"
      ]
     },
     "metadata": {},
     "output_type": "display_data"
    }
   ],
   "source": [
    "import seaborn as sns\n",
    "import matplotlib.pyplot as plt\n",
    "plt.figure(figsize=(8, 6))\n",
    "sns.boxplot(x='specialisation', y='salary', data=data_set)\n",
    "plt.title('Salary Distribution by Specialisation')\n",
    "plt.xlabel('Specialisation')\n",
    "plt.ylabel('Salary')\n",
    "plt.grid(True)\n",
    "plt.show()"
   ]
  },
  {
   "cell_type": "code",
   "execution_count": null,
   "id": "3e24672f-c93a-4a5f-b479-fa03b330a29f",
   "metadata": {},
   "outputs": [],
   "source": [
    "#Specialisation Mk&Fin students getting more salary compared to Mkt&HR students"
   ]
  },
  {
   "cell_type": "code",
   "execution_count": null,
   "id": "27fd5c29-4fbe-4fe6-abe2-a1e98a45ad74",
   "metadata": {},
   "outputs": [],
   "source": []
  },
  {
   "cell_type": "code",
   "execution_count": 134,
   "id": "5414d6e9-40f9-427e-97c6-6b55f11d2705",
   "metadata": {},
   "outputs": [
    {
     "data": {
      "image/png": "[encoded data removed]",
      "text/plain": [
       "<Figure size 800x600 with 1 Axes>"
      ]
     },
     "metadata": {},
     "output_type": "display_data"
    }
   ],
   "source": [
    "plt.figure(figsize=(8, 6))\n",
    "sns.boxplot(x='degree_t', y='salary', data=data_set,color='red')\n",
    "plt.title('Salary Distribution by degree_t')\n",
    "plt.xlabel('degree_t')\n",
    "plt.ylabel('Salary')\n",
    "plt.grid(True)\n",
    "plt.show()"
   ]
  },
  {
   "cell_type": "code",
   "execution_count": null,
   "id": "af6f1bd7-72d9-4b6d-ab57-74ad28fe1015",
   "metadata": {},
   "outputs": [],
   "source": [
    "#Sci&Tech students are getting more salary compared to other students "
   ]
  },
  {
   "cell_type": "code",
   "execution_count": 146,
   "id": "f47c4613-a78a-4c66-bef4-aa64b2f9d181",
   "metadata": {},
   "outputs": [
    {
     "data": {
      "image/png": "[encoded data removed]",
      "text/plain": [
       "<Figure size 800x600 with 1 Axes>"
      ]
     },
     "metadata": {},
     "output_type": "display_data"
    }
   ],
   "source": [
    "plt.figure(figsize=(8, 6))\n",
    "sns.scatterplot(x='degree_p', y='salary', data=data_set,color='red')\n",
    "plt.title('Relationship between MBA Percentage and Salary')\n",
    "plt.xlabel('degree_p')\n",
    "plt.ylabel('Salary')\n",
    "plt.grid(True)\n",
    "plt.show()"
   ]
  },
  {
   "cell_type": "code",
   "execution_count": null,
   "id": "1689df4d-a5c9-4fdc-b176-0c8739f5c082",
   "metadata": {},
   "outputs": [],
   "source": [
    "#Many of the sudents are getting high salary who are marked 60 to 80 in degree."
   ]
  },
  {
   "cell_type": "code",
   "execution_count": 149,
   "id": "5f9e8b1b-5912-4b7c-b933-e6e872116924",
   "metadata": {},
   "outputs": [
    {
     "data": {
      "image/png": "[encoded data removed]",
      "text/plain": [
       "<Figure size 800x600 with 1 Axes>"
      ]
     },
     "metadata": {},
     "output_type": "display_data"
    }
   ],
   "source": [
    "plt.figure(figsize=(8, 6))\n",
    "sns.boxplot(y='degree_p', x='status', data=data_set,color='red')\n",
    "plt.title('Relationship between MBA Percentage and Salary')\n",
    "plt.xlabel('degree_p')\n",
    "plt.ylabel('Salary')\n",
    "plt.grid(True)\n",
    "plt.show()"
   ]
  },
  {
   "cell_type": "code",
   "execution_count": 150,
   "id": "ac809256-2c7d-4b3c-b62a-b78713ca738a",
   "metadata": {},
   "outputs": [],
   "source": [
    "#not placed students are mark was between 56 to 64.\n",
    "#placed students marked was between 65 to 73."
   ]
  },
  {
   "cell_type": "code",
   "execution_count": null,
   "id": "aeac41ee-c0b2-4f7d-9e19-c72ad4ba585b",
   "metadata": {},
   "outputs": [],
   "source": []
  }
 ],
 "metadata": {
  "kernelspec": {
   "display_name": "Python 3 (ipykernel)",
   "language": "python",
   "name": "python3"
  },
  "language_info": {
   "codemirror_mode": {
    "name": "ipython",
    "version": 3
   },
   "file_extension": ".py",
   "mimetype": "text/x-python",
   "name": "python",
   "nbconvert_exporter": "python",
   "pygments_lexer": "ipython3",
   "version": "3.13.5"
  }
 },
 "nbformat": 4,
 "nbformat_minor": 5
}
